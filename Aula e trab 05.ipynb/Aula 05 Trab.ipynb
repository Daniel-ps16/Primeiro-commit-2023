{
 "cells": [
  {
   "cell_type": "markdown",
   "metadata": {},
   "source": [
    "1. Crie uma classe RETANGULO que tenha os atributos base e altura e os métodos area() e perimetro(). Crie um objeto e teste os métodos."
   ]
  },
  {
   "cell_type": "code",
   "execution_count": 8,
   "metadata": {},
   "outputs": [
    {
     "name": "stdout",
     "output_type": "stream",
     "text": [
      "Área: 15\n",
      "Perímetro: 16\n"
     ]
    }
   ],
   "source": [
    "class Retangulo:\n",
    "    def __init__(self, base, altura):\n",
    "        self.base = base\n",
    "        self.altura = altura\n",
    "\n",
    "    def area(self):\n",
    "        return self.base * self.altura\n",
    "\n",
    "    def perimetro(self):\n",
    "        return 2 * (self.base + self.altura)\n",
    "\n",
    "# Instanciando a classe RETANGULO com base = 5 e altura = 3\n",
    "\n",
    "retangulo1 = Retangulo(5, 3)\n",
    "\n",
    "area1 = retangulo1.area()\n",
    "perimetro1 = retangulo1.perimetro()\n",
    "\n",
    "print(f\"Área: {area1}\")\n",
    "print(f\"Perímetro: {perimetro1}\")"
   ]
  },
  {
   "cell_type": "markdown",
   "metadata": {},
   "source": [
    "2. Crie um arquivo chamado geometria.py e salve a classe Retangulo dentro desse arquivo. Importe a classe de algum outro arquivo e realize testes."
   ]
  },
  {
   "cell_type": "code",
   "execution_count": 1,
   "metadata": {},
   "outputs": [
    {
     "name": "stdout",
     "output_type": "stream",
     "text": [
      "Área: 15\n",
      "Perímetro: 16\n"
     ]
    }
   ],
   "source": [
    "import geometria as ge\n",
    "\n",
    "# Instanciando a classe Retangulo com base = 5 e altura = 3\n",
    "retangulo1 = ge.Retangulo(5, 3)\n",
    "\n",
    "area1 = retangulo1.area()\n",
    "perimetro1 = retangulo1.perimetro()\n",
    "\n",
    "print(f\"Área: {area1}\")\n",
    "print(f\"Perímetro: {perimetro1}\")"
   ]
  },
  {
   "cell_type": "markdown",
   "metadata": {},
   "source": [
    "3. Crie uma classe Conta que tenha os atributos saldo e titular, e os métodos depositar() e sacar(). Em seguida, instancie essa classe com um saldo inicial e realize algumas operações de depósito e saque para verificar se o saldo está sendo atualizado corretamente."
   ]
  },
  {
   "cell_type": "code",
   "execution_count": 22,
   "metadata": {},
   "outputs": [
    {
     "name": "stdout",
     "output_type": "stream",
     "text": [
      "Saldo: 1500\n",
      "Saldo: 1300\n",
      "Saldo: 2800\n"
     ]
    }
   ],
   "source": [
    "class Conta:\n",
    "    def __init__(self, titular, saldo=0):\n",
    "        self.titular = titular\n",
    "        self.saldo = saldo\n",
    "\n",
    "    def depositar(self, valor):\n",
    "        self.saldo += valor\n",
    "        print(f\"Saldo: {self.saldo}\")\n",
    "\n",
    "    def sacar(self, valor):\n",
    "        if self.saldo >= valor:\n",
    "            self.saldo -= valor\n",
    "            print(f\"Saldo: {self.saldo}\")\n",
    "        else:\n",
    "            print(\"Saldo insuficiente!\")\n",
    "\n",
    "conta1 = Conta(\"Carlos\", 1000)\n",
    "\n",
    "conta1.depositar(500)\n",
    "conta1.sacar(200)\n",
    "conta1.depositar(1500)"
   ]
  }
 ],
 "metadata": {
  "kernelspec": {
   "display_name": "Python 3",
   "language": "python",
   "name": "python3"
  },
  "language_info": {
   "codemirror_mode": {
    "name": "ipython",
    "version": 3
   },
   "file_extension": ".py",
   "mimetype": "text/x-python",
   "name": "python",
   "nbconvert_exporter": "python",
   "pygments_lexer": "ipython3",
   "version": "3.11.4"
  },
  "orig_nbformat": 4
 },
 "nbformat": 4,
 "nbformat_minor": 2
}
