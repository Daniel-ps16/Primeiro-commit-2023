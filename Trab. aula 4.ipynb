{
 "cells": [
  {
   "cell_type": "markdown",
   "metadata": {},
   "source": [
    "TRABALHO DE NOTIFICAÇÃO."
   ]
  },
  {
   "cell_type": "code",
   "execution_count": 4,
   "metadata": {},
   "outputs": [
    {
     "ename": "SyntaxError",
     "evalue": "invalid syntax (218213934.py, line 17)",
     "output_type": "error",
     "traceback": [
      "\u001b[1;36m  Cell \u001b[1;32mIn[4], line 17\u001b[1;36m\u001b[0m\n\u001b[1;33m    else: (>3)\u001b[0m\n\u001b[1;37m           ^\u001b[0m\n\u001b[1;31mSyntaxError\u001b[0m\u001b[1;31m:\u001b[0m invalid syntax\n"
     ]
    }
   ],
   "source": [
    "from plyer import notification\n",
    "from datetime import datetime\n",
    "\n",
    "data = str(datetime.now())\n",
    "\n",
    "\n",
    "def alerta(nivel, base, etapa):\n",
    "    if  nivel == 1:\n",
    "        title = 'ATENÇÃO: Alerta Baixo'\n",
    "        \n",
    "    elif nivel == 2:\n",
    "        title = 'ATENÇÃO: Alerta Médio'\n",
    "     \n",
    "    elif nivel == 3:\n",
    "        title = 'ATENÇÃO: Alerta Alto'\n",
    "\n",
    "    else:\n",
    "        print('não disponível!')\n",
    "\n",
    "    mgs = f\"Falha no carregamento da base {base} na etapa {etapa}.\\n{data}\"\n",
    "\n",
    "    notification.notify(\n",
    "    title = title,\n",
    "    message = mgs,\n",
    "    app_name = 'VSCODE ALERT!',\n",
    "    timeout = 10)\n",
    "\n",
    "alerta(nivel = 4, base = \"Cliente\", etapa = \"Extração\")\n"
   ]
  }
 ],
 "metadata": {
  "kernelspec": {
   "display_name": "Python 3",
   "language": "python",
   "name": "python3"
  },
  "language_info": {
   "codemirror_mode": {
    "name": "ipython",
    "version": 3
   },
   "file_extension": ".py",
   "mimetype": "text/x-python",
   "name": "python",
   "nbconvert_exporter": "python",
   "pygments_lexer": "ipython3",
   "version": "3.11.4"
  },
  "orig_nbformat": 4
 },
 "nbformat": 4,
 "nbformat_minor": 2
}
