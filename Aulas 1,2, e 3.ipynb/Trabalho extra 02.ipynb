{
 "cells": [
  {
   "cell_type": "markdown",
   "metadata": {},
   "source": [
    "Primeiro exercício"
   ]
  },
  {
   "cell_type": "code",
   "execution_count": 44,
   "metadata": {},
   "outputs": [
    {
     "name": "stdout",
     "output_type": "stream",
     "text": [
      "Seu índice de massa corporal é 81.11111111111111\n"
     ]
    }
   ],
   "source": [
    "altura = float(input(\"Qual a sua altura(em metros e usando ponto)?\"))\n",
    "peso = float(input(\"Qual seu peso(em KG)?\"))\n",
    "IMC = peso/altura*2\n",
    "\n",
    "print(f\"Seu índice de massa corporal é {IMC}\")"
   ]
  },
  {
   "cell_type": "markdown",
   "metadata": {},
   "source": [
    "Segundo exercício"
   ]
  },
  {
   "cell_type": "code",
   "execution_count": 43,
   "metadata": {},
   "outputs": [
    {
     "name": "stdout",
     "output_type": "stream",
     "text": [
      "Sua lista: [5.0, 4.0, 7.0, 8.0, 3.0]\n"
     ]
    }
   ],
   "source": [
    "\n",
    "lista = []\n",
    "lista.append(float(input(\"num 1:\")))\n",
    "lista.append(float(input(\"num 2:\")))\n",
    "lista.append(float(input(\"num 3:\")))\n",
    "lista.append(float(input(\"num 4:\")))\n",
    "lista.append(float(input(\"num 5:\")))\n",
    "\n",
    "print(\"Sua lista:\", lista)"
   ]
  },
  {
   "cell_type": "markdown",
   "metadata": {},
   "source": [
    "Terceiro Exercício"
   ]
  },
  {
   "cell_type": "code",
   "execution_count": 1,
   "metadata": {},
   "outputs": [
    {
     "name": "stdout",
     "output_type": "stream",
     "text": [
      "Lista de nomes: ['jose', ' maria', ' joao', ' mari']\n"
     ]
    }
   ],
   "source": [
    "nomes = input(\"Digite uma lista de nomes separados por vírgula: \")\n",
    "\n",
    "lista_nomes = nomes.split(\",\")\n",
    "\n",
    "print(\"Lista de nomes:\", lista_nomes)"
   ]
  }
 ],
 "metadata": {
  "kernelspec": {
   "display_name": "Python 3",
   "language": "python",
   "name": "python3"
  },
  "language_info": {
   "codemirror_mode": {
    "name": "ipython",
    "version": 3
   },
   "file_extension": ".py",
   "mimetype": "text/x-python",
   "name": "python",
   "nbconvert_exporter": "python",
   "pygments_lexer": "ipython3",
   "version": "3.11.4"
  },
  "orig_nbformat": 4
 },
 "nbformat": 4,
 "nbformat_minor": 2
}
